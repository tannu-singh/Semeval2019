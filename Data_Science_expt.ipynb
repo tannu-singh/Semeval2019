{
 "cells": [
  {
   "cell_type": "code",
   "execution_count": null,
   "metadata": {},
   "outputs": [],
   "source": [
    "import collections\n",
    "import pandas as pd\n",
    "import matplotlib.pyplot as plt\n",
    "import re\n",
    "%matplotlib inline\n",
    "\n",
    "# Read input file, note the encoding is specified here \n",
    "# It may be different in your text file\n",
    "file = open('D:\\\\Algorithms\\\\MDS Dataset\\\\train.txt', encoding=\"utf8\")\n",
    "a= file.read()\n",
    "cleaned_file= a.lower().split() \n",
    "\n",
    "# Instantiate a dictionary, and for every word in the file, \n",
    "# Add to the dictionary if it doesn't exist. If it does, increase the count.\n",
    "wordcount = {}\n",
    "\n",
    "# To eliminate duplicates, remember to split by punctuation, and use case demiliters.\n",
    "for word in cleaned_file:\n",
    "\n",
    "    if word not in cleaned_file:\n",
    "        if word not in wordcount:\n",
    "            wordcount[word] = 1\n",
    "        else:\n",
    "            wordcount[word] += 1\n",
    "\n",
    "# Print most common word\n",
    "#n_print = int(input(\"How many most common words to print: \"))\n",
    "print(\"The 20 most common words are as follows\\n\".format(20))\n",
    "word_counter = collections.Counter(wordcount)\n",
    "for word, count in word_counter.most_common(20):\n",
    "    print(word, \": \", count)\n",
    "\n",
    "# Close the file\n",
    "file.close()\n",
    "\n",
    "# Create a data frame of the most common words \n",
    "# Draw a bar chart\n",
    "lst = word_counter.most_common(20)\n",
    "df = pd.DataFrame(lst, columns = ['Word', 'Count'])\n",
    "df.plot.bar(x='Word',y='Count')"
   ]
  },
  {
   "cell_type": "code",
   "execution_count": null,
   "metadata": {},
   "outputs": [],
   "source": []
  }
 ],
 "metadata": {
  "kernelspec": {
   "display_name": "Python 3",
   "language": "python",
   "name": "python3"
  },
  "language_info": {
   "codemirror_mode": {
    "name": "ipython",
    "version": 3
   },
   "file_extension": ".py",
   "mimetype": "text/x-python",
   "name": "python",
   "nbconvert_exporter": "python",
   "pygments_lexer": "ipython3",
   "version": "3.6.5"
  }
 },
 "nbformat": 4,
 "nbformat_minor": 2
}
